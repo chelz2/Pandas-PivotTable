{
  "metadata": {
    "kernelspec": {
      "name": "python",
      "display_name": "Python (Pyodide)",
      "language": "python"
    },
    "language_info": {
      "codemirror_mode": {
        "name": "python",
        "version": 3
      },
      "file_extension": ".py",
      "mimetype": "text/x-python",
      "name": "python",
      "nbconvert_exporter": "python",
      "pygments_lexer": "ipython3",
      "version": "3.8"
    }
  },
  "nbformat_minor": 4,
  "nbformat": 4,
  "cells": [
    {
      "cell_type": "markdown",
      "source": "# Pivot tables with pandas\n##### >>> representing datas as pivot tables",
      "metadata": {}
    },
    {
      "cell_type": "code",
      "source": "# --> Pivot tables helps reorganize data, refactor cell based on new column & index from existing datatables\n\n# ---> i.e, dataframe tables with repeated values can be pivoted for reorganize & clarity\n\n# NB **--> new index & columns for the pivot tables should have a repeating values in original data table / dataframe\n\n#---> & then we decide what coumn values we can used to match up the cell(row) values\n\n#-----> NB:- ***no new information is shown in pivot tables & it is just a re-organize of the datatable with some column droped for clarity\n\n#-----> NB: Dont make pivot tables for every dtstsble & onlycreate pivot tables only for datables that makes sense\n# **( ALso --> crating pivot for most datables will makes no sense )\n",
      "metadata": {
        "trusted": true
      },
      "outputs": [],
      "execution_count": 1
    },
    {
      "cell_type": "code",
      "source": "#intuition checklist to make pivot table ----> what we want to answer from dtatble\n\n#----> does it need a pivot table ---> what we want it to look like\n\n#---> does it asnswer the questions \n\n#----> we can also call aggragate methods on pivot tables methods  \n\n#-----> NB ** we can answer this sort of Qs using GroupBy in pandas which is more convinient than to use pivot tables which can again depends on csituation",
      "metadata": {
        "trusted": true
      },
      "outputs": [],
      "execution_count": 3
    },
    {
      "cell_type": "code",
      "source": "import numpy as np\nimport pandas as pd",
      "metadata": {
        "trusted": true
      },
      "outputs": [],
      "execution_count": 5
    },
    {
      "cell_type": "code",
      "source": "df = pd.read_csv('Sales_Funnel_CRM.csv')",
      "metadata": {
        "trusted": true
      },
      "outputs": [],
      "execution_count": 6
    },
    {
      "cell_type": "code",
      "source": "df",
      "metadata": {
        "trusted": true
      },
      "outputs": [
        {
          "execution_count": 7,
          "output_type": "execute_result",
          "data": {
            "text/plain": "    Account Number       Company       Contact Account Manager  \\\n0          2123398        Google   Larry Pager    Edward Thorp   \n1          2123398        Google   Larry Pager    Edward Thorp   \n2          2123398        Google   Larry Pager    Edward Thorp   \n3          2192650          BOBO   Larry Pager    Edward Thorp   \n4           420496          IKEA     Elon Tusk    Edward Thorp   \n5           636685    Tesla Inc.     Elon Tusk    Edward Thorp   \n6           636685    Tesla Inc.     Elon Tusk    Edward Thorp   \n7          1216870     Microsoft   Will Grates    Edward Thorp   \n8          2200450       Walmart   Will Grates    Edward Thorp   \n9           405886         Apple  Cindy Phoner  Claude Shannon   \n10          470248  Exxon Mobile  Cindy Phoner  Claude Shannon   \n11          698032           ATT  Cindy Phoner  Claude Shannon   \n12          698032           ATT  Cindy Phoner  Claude Shannon   \n13          902797    CVS Health  Emma Gordian  Claude Shannon   \n14         2046943    Salesforce  Emma Gordian  Claude Shannon   \n15         2169499         Cisco  Emma Gordian  Claude Shannon   \n16         2169499         Cisco  Emma Gordian  Claude Shannon   \n\n            Product  Licenses  Sale Price        Status  \n0         Analytics       150     2100000     Presented  \n1        Prediction       150      700000     Presented  \n2          Tracking       300      350000  Under Review  \n3         Analytics       150     2450000          Lost  \n4         Analytics       300     4550000           Won  \n5         Analytics       300     2800000  Under Review  \n6        Prediction       150      700000     Presented  \n7          Tracking       300      350000  Under Review  \n8         Analytics       150     2450000          Lost  \n9         Analytics       300     4550000           Won  \n10        Analytics       150     2100000     Presented  \n11         Tracking       150      350000  Under Review  \n12       Prediction       150      700000     Presented  \n13         Tracking       450      490000           Won  \n14        Analytics       750     7000000           Won  \n15        Analytics       300     4550000          Lost  \n16  GPS Positioning       300      350000     Presented  ",
            "text/html": "<div>\n<style scoped>\n    .dataframe tbody tr th:only-of-type {\n        vertical-align: middle;\n    }\n\n    .dataframe tbody tr th {\n        vertical-align: top;\n    }\n\n    .dataframe thead th {\n        text-align: right;\n    }\n</style>\n<table border=\"1\" class=\"dataframe\">\n  <thead>\n    <tr style=\"text-align: right;\">\n      <th></th>\n      <th>Account Number</th>\n      <th>Company</th>\n      <th>Contact</th>\n      <th>Account Manager</th>\n      <th>Product</th>\n      <th>Licenses</th>\n      <th>Sale Price</th>\n      <th>Status</th>\n    </tr>\n  </thead>\n  <tbody>\n    <tr>\n      <th>0</th>\n      <td>2123398</td>\n      <td>Google</td>\n      <td>Larry Pager</td>\n      <td>Edward Thorp</td>\n      <td>Analytics</td>\n      <td>150</td>\n      <td>2100000</td>\n      <td>Presented</td>\n    </tr>\n    <tr>\n      <th>1</th>\n      <td>2123398</td>\n      <td>Google</td>\n      <td>Larry Pager</td>\n      <td>Edward Thorp</td>\n      <td>Prediction</td>\n      <td>150</td>\n      <td>700000</td>\n      <td>Presented</td>\n    </tr>\n    <tr>\n      <th>2</th>\n      <td>2123398</td>\n      <td>Google</td>\n      <td>Larry Pager</td>\n      <td>Edward Thorp</td>\n      <td>Tracking</td>\n      <td>300</td>\n      <td>350000</td>\n      <td>Under Review</td>\n    </tr>\n    <tr>\n      <th>3</th>\n      <td>2192650</td>\n      <td>BOBO</td>\n      <td>Larry Pager</td>\n      <td>Edward Thorp</td>\n      <td>Analytics</td>\n      <td>150</td>\n      <td>2450000</td>\n      <td>Lost</td>\n    </tr>\n    <tr>\n      <th>4</th>\n      <td>420496</td>\n      <td>IKEA</td>\n      <td>Elon Tusk</td>\n      <td>Edward Thorp</td>\n      <td>Analytics</td>\n      <td>300</td>\n      <td>4550000</td>\n      <td>Won</td>\n    </tr>\n    <tr>\n      <th>5</th>\n      <td>636685</td>\n      <td>Tesla Inc.</td>\n      <td>Elon Tusk</td>\n      <td>Edward Thorp</td>\n      <td>Analytics</td>\n      <td>300</td>\n      <td>2800000</td>\n      <td>Under Review</td>\n    </tr>\n    <tr>\n      <th>6</th>\n      <td>636685</td>\n      <td>Tesla Inc.</td>\n      <td>Elon Tusk</td>\n      <td>Edward Thorp</td>\n      <td>Prediction</td>\n      <td>150</td>\n      <td>700000</td>\n      <td>Presented</td>\n    </tr>\n    <tr>\n      <th>7</th>\n      <td>1216870</td>\n      <td>Microsoft</td>\n      <td>Will Grates</td>\n      <td>Edward Thorp</td>\n      <td>Tracking</td>\n      <td>300</td>\n      <td>350000</td>\n      <td>Under Review</td>\n    </tr>\n    <tr>\n      <th>8</th>\n      <td>2200450</td>\n      <td>Walmart</td>\n      <td>Will Grates</td>\n      <td>Edward Thorp</td>\n      <td>Analytics</td>\n      <td>150</td>\n      <td>2450000</td>\n      <td>Lost</td>\n    </tr>\n    <tr>\n      <th>9</th>\n      <td>405886</td>\n      <td>Apple</td>\n      <td>Cindy Phoner</td>\n      <td>Claude Shannon</td>\n      <td>Analytics</td>\n      <td>300</td>\n      <td>4550000</td>\n      <td>Won</td>\n    </tr>\n    <tr>\n      <th>10</th>\n      <td>470248</td>\n      <td>Exxon Mobile</td>\n      <td>Cindy Phoner</td>\n      <td>Claude Shannon</td>\n      <td>Analytics</td>\n      <td>150</td>\n      <td>2100000</td>\n      <td>Presented</td>\n    </tr>\n    <tr>\n      <th>11</th>\n      <td>698032</td>\n      <td>ATT</td>\n      <td>Cindy Phoner</td>\n      <td>Claude Shannon</td>\n      <td>Tracking</td>\n      <td>150</td>\n      <td>350000</td>\n      <td>Under Review</td>\n    </tr>\n    <tr>\n      <th>12</th>\n      <td>698032</td>\n      <td>ATT</td>\n      <td>Cindy Phoner</td>\n      <td>Claude Shannon</td>\n      <td>Prediction</td>\n      <td>150</td>\n      <td>700000</td>\n      <td>Presented</td>\n    </tr>\n    <tr>\n      <th>13</th>\n      <td>902797</td>\n      <td>CVS Health</td>\n      <td>Emma Gordian</td>\n      <td>Claude Shannon</td>\n      <td>Tracking</td>\n      <td>450</td>\n      <td>490000</td>\n      <td>Won</td>\n    </tr>\n    <tr>\n      <th>14</th>\n      <td>2046943</td>\n      <td>Salesforce</td>\n      <td>Emma Gordian</td>\n      <td>Claude Shannon</td>\n      <td>Analytics</td>\n      <td>750</td>\n      <td>7000000</td>\n      <td>Won</td>\n    </tr>\n    <tr>\n      <th>15</th>\n      <td>2169499</td>\n      <td>Cisco</td>\n      <td>Emma Gordian</td>\n      <td>Claude Shannon</td>\n      <td>Analytics</td>\n      <td>300</td>\n      <td>4550000</td>\n      <td>Lost</td>\n    </tr>\n    <tr>\n      <th>16</th>\n      <td>2169499</td>\n      <td>Cisco</td>\n      <td>Emma Gordian</td>\n      <td>Claude Shannon</td>\n      <td>GPS Positioning</td>\n      <td>300</td>\n      <td>350000</td>\n      <td>Presented</td>\n    </tr>\n  </tbody>\n</table>\n</div>"
          },
          "metadata": {}
        }
      ],
      "execution_count": 7
    },
    {
      "cell_type": "code",
      "source": "# CRM --> customer relation management datas ---> common for peaple creating pivot for this type of datatables to get clarity on its data\n\n#help(pd.pivot) ---> doc on .pivot() method in pandas\n",
      "metadata": {
        "trusted": true
      },
      "outputs": [],
      "execution_count": 10
    },
    {
      "cell_type": "code",
      "source": "# eg -- how many licenses of products did Google purchase ?\n\n# ---> select 3 0r more column from datable we want to work with\n\nlicense = df[['Company', 'Product', 'Licenses']]  #---> taking subset of column we want to work with\n\n#NB--> we dont typpically need pivot tables to answer such Qs but it makes lot easier if datatable is very large",
      "metadata": {
        "trusted": true
      },
      "outputs": [],
      "execution_count": 16
    },
    {
      "cell_type": "code",
      "source": "license",
      "metadata": {
        "trusted": true
      },
      "outputs": [
        {
          "execution_count": 17,
          "output_type": "execute_result",
          "data": {
            "text/plain": "         Company          Product  Licenses\n0         Google        Analytics       150\n1         Google       Prediction       150\n2         Google         Tracking       300\n3           BOBO        Analytics       150\n4           IKEA        Analytics       300\n5     Tesla Inc.        Analytics       300\n6     Tesla Inc.       Prediction       150\n7      Microsoft         Tracking       300\n8        Walmart        Analytics       150\n9          Apple        Analytics       300\n10  Exxon Mobile        Analytics       150\n11           ATT         Tracking       150\n12           ATT       Prediction       150\n13    CVS Health         Tracking       450\n14    Salesforce        Analytics       750\n15         Cisco        Analytics       300\n16         Cisco  GPS Positioning       300",
            "text/html": "<div>\n<style scoped>\n    .dataframe tbody tr th:only-of-type {\n        vertical-align: middle;\n    }\n\n    .dataframe tbody tr th {\n        vertical-align: top;\n    }\n\n    .dataframe thead th {\n        text-align: right;\n    }\n</style>\n<table border=\"1\" class=\"dataframe\">\n  <thead>\n    <tr style=\"text-align: right;\">\n      <th></th>\n      <th>Company</th>\n      <th>Product</th>\n      <th>Licenses</th>\n    </tr>\n  </thead>\n  <tbody>\n    <tr>\n      <th>0</th>\n      <td>Google</td>\n      <td>Analytics</td>\n      <td>150</td>\n    </tr>\n    <tr>\n      <th>1</th>\n      <td>Google</td>\n      <td>Prediction</td>\n      <td>150</td>\n    </tr>\n    <tr>\n      <th>2</th>\n      <td>Google</td>\n      <td>Tracking</td>\n      <td>300</td>\n    </tr>\n    <tr>\n      <th>3</th>\n      <td>BOBO</td>\n      <td>Analytics</td>\n      <td>150</td>\n    </tr>\n    <tr>\n      <th>4</th>\n      <td>IKEA</td>\n      <td>Analytics</td>\n      <td>300</td>\n    </tr>\n    <tr>\n      <th>5</th>\n      <td>Tesla Inc.</td>\n      <td>Analytics</td>\n      <td>300</td>\n    </tr>\n    <tr>\n      <th>6</th>\n      <td>Tesla Inc.</td>\n      <td>Prediction</td>\n      <td>150</td>\n    </tr>\n    <tr>\n      <th>7</th>\n      <td>Microsoft</td>\n      <td>Tracking</td>\n      <td>300</td>\n    </tr>\n    <tr>\n      <th>8</th>\n      <td>Walmart</td>\n      <td>Analytics</td>\n      <td>150</td>\n    </tr>\n    <tr>\n      <th>9</th>\n      <td>Apple</td>\n      <td>Analytics</td>\n      <td>300</td>\n    </tr>\n    <tr>\n      <th>10</th>\n      <td>Exxon Mobile</td>\n      <td>Analytics</td>\n      <td>150</td>\n    </tr>\n    <tr>\n      <th>11</th>\n      <td>ATT</td>\n      <td>Tracking</td>\n      <td>150</td>\n    </tr>\n    <tr>\n      <th>12</th>\n      <td>ATT</td>\n      <td>Prediction</td>\n      <td>150</td>\n    </tr>\n    <tr>\n      <th>13</th>\n      <td>CVS Health</td>\n      <td>Tracking</td>\n      <td>450</td>\n    </tr>\n    <tr>\n      <th>14</th>\n      <td>Salesforce</td>\n      <td>Analytics</td>\n      <td>750</td>\n    </tr>\n    <tr>\n      <th>15</th>\n      <td>Cisco</td>\n      <td>Analytics</td>\n      <td>300</td>\n    </tr>\n    <tr>\n      <th>16</th>\n      <td>Cisco</td>\n      <td>GPS Positioning</td>\n      <td>300</td>\n    </tr>\n  </tbody>\n</table>\n</div>"
          },
          "metadata": {}
        }
      ],
      "execution_count": 17
    },
    {
      "cell_type": "code",
      "source": "# we can call pivot to craete pivot table\n\npd.pivot(data=license, index='Company', columns='Product', values='Licenses')  # ---> fill rows with null if it index(Company) has no values for columns(Products)\n\n#---> i.e it is lot easier to answer to Qs like how many product licences sold to ech company",
      "metadata": {
        "trusted": true
      },
      "outputs": [
        {
          "execution_count": 20,
          "output_type": "execute_result",
          "data": {
            "text/plain": "Product       Analytics  GPS Positioning  Prediction  Tracking\nCompany                                                       \n Google           150.0              NaN       150.0     300.0\nATT                 NaN              NaN       150.0     150.0\nApple             300.0              NaN         NaN       NaN\nBOBO              150.0              NaN         NaN       NaN\nCVS Health          NaN              NaN         NaN     450.0\nCisco             300.0            300.0         NaN       NaN\nExxon Mobile      150.0              NaN         NaN       NaN\nIKEA              300.0              NaN         NaN       NaN\nMicrosoft           NaN              NaN         NaN     300.0\nSalesforce        750.0              NaN         NaN       NaN\nTesla Inc.        300.0              NaN       150.0       NaN\nWalmart           150.0              NaN         NaN       NaN",
            "text/html": "<div>\n<style scoped>\n    .dataframe tbody tr th:only-of-type {\n        vertical-align: middle;\n    }\n\n    .dataframe tbody tr th {\n        vertical-align: top;\n    }\n\n    .dataframe thead th {\n        text-align: right;\n    }\n</style>\n<table border=\"1\" class=\"dataframe\">\n  <thead>\n    <tr style=\"text-align: right;\">\n      <th>Product</th>\n      <th>Analytics</th>\n      <th>GPS Positioning</th>\n      <th>Prediction</th>\n      <th>Tracking</th>\n    </tr>\n    <tr>\n      <th>Company</th>\n      <th></th>\n      <th></th>\n      <th></th>\n      <th></th>\n    </tr>\n  </thead>\n  <tbody>\n    <tr>\n      <th>Google</th>\n      <td>150.0</td>\n      <td>NaN</td>\n      <td>150.0</td>\n      <td>300.0</td>\n    </tr>\n    <tr>\n      <th>ATT</th>\n      <td>NaN</td>\n      <td>NaN</td>\n      <td>150.0</td>\n      <td>150.0</td>\n    </tr>\n    <tr>\n      <th>Apple</th>\n      <td>300.0</td>\n      <td>NaN</td>\n      <td>NaN</td>\n      <td>NaN</td>\n    </tr>\n    <tr>\n      <th>BOBO</th>\n      <td>150.0</td>\n      <td>NaN</td>\n      <td>NaN</td>\n      <td>NaN</td>\n    </tr>\n    <tr>\n      <th>CVS Health</th>\n      <td>NaN</td>\n      <td>NaN</td>\n      <td>NaN</td>\n      <td>450.0</td>\n    </tr>\n    <tr>\n      <th>Cisco</th>\n      <td>300.0</td>\n      <td>300.0</td>\n      <td>NaN</td>\n      <td>NaN</td>\n    </tr>\n    <tr>\n      <th>Exxon Mobile</th>\n      <td>150.0</td>\n      <td>NaN</td>\n      <td>NaN</td>\n      <td>NaN</td>\n    </tr>\n    <tr>\n      <th>IKEA</th>\n      <td>300.0</td>\n      <td>NaN</td>\n      <td>NaN</td>\n      <td>NaN</td>\n    </tr>\n    <tr>\n      <th>Microsoft</th>\n      <td>NaN</td>\n      <td>NaN</td>\n      <td>NaN</td>\n      <td>300.0</td>\n    </tr>\n    <tr>\n      <th>Salesforce</th>\n      <td>750.0</td>\n      <td>NaN</td>\n      <td>NaN</td>\n      <td>NaN</td>\n    </tr>\n    <tr>\n      <th>Tesla Inc.</th>\n      <td>300.0</td>\n      <td>NaN</td>\n      <td>150.0</td>\n      <td>NaN</td>\n    </tr>\n    <tr>\n      <th>Walmart</th>\n      <td>150.0</td>\n      <td>NaN</td>\n      <td>NaN</td>\n      <td>NaN</td>\n    </tr>\n  </tbody>\n</table>\n</div>"
          },
          "metadata": {}
        }
      ],
      "execution_count": 20
    },
    {
      "cell_type": "code",
      "source": "# Nb --> we can answer this Qs eith without using pivot tables using pandas filter method approch\n#-----> But in pivot tables we can compare & answer qustion on multiple questions",
      "metadata": {
        "trusted": true
      },
      "outputs": [],
      "execution_count": 21
    },
    {
      "cell_type": "code",
      "source": "# Aggregate on pivot tables ---> this is when we use .pivot_table() mrthod calls\n \n    #eg --.> total sum of sales & license for each company\n\n\npd.pivot_table(df, index='Company', aggfunc='sum')  # ---> perform aggregate sum for all numerical dtpe column for given index(which is grooupby)",
      "metadata": {
        "trusted": true
      },
      "outputs": [
        {
          "execution_count": 34,
          "output_type": "execute_result",
          "data": {
            "text/plain": "                                   Account Manager  Account Number  \\\nCompany                                                              \n Google       Edward ThorpEdward ThorpEdward Thorp         6370194   \nATT                   Claude ShannonClaude Shannon         1396064   \nApple                               Claude Shannon          405886   \nBOBO                                  Edward Thorp         2192650   \nCVS Health                          Claude Shannon          902797   \nCisco                 Claude ShannonClaude Shannon         4338998   \nExxon Mobile                        Claude Shannon          470248   \nIKEA                                  Edward Thorp          420496   \nMicrosoft                             Edward Thorp         1216870   \nSalesforce                          Claude Shannon         2046943   \nTesla Inc.                Edward ThorpEdward Thorp         1273370   \nWalmart                               Edward Thorp         2200450   \n\n                                        Contact  Licenses  \\\nCompany                                                     \n Google       Larry PagerLarry PagerLarry Pager       600   \nATT                    Cindy PhonerCindy Phoner       300   \nApple                              Cindy Phoner       300   \nBOBO                                Larry Pager       150   \nCVS Health                         Emma Gordian       450   \nCisco                  Emma GordianEmma Gordian       600   \nExxon Mobile                       Cindy Phoner       150   \nIKEA                                  Elon Tusk       300   \nMicrosoft                           Will Grates       300   \nSalesforce                         Emma Gordian       750   \nTesla Inc.                   Elon TuskElon Tusk       450   \nWalmart                             Will Grates       150   \n\n                                  Product  Sale Price  \\\nCompany                                                 \n Google       AnalyticsPredictionTracking     3150000   \nATT                    TrackingPrediction     1050000   \nApple                           Analytics     4550000   \nBOBO                            Analytics     2450000   \nCVS Health                       Tracking      490000   \nCisco            AnalyticsGPS Positioning     4900000   \nExxon Mobile                    Analytics     2100000   \nIKEA                            Analytics     4550000   \nMicrosoft                        Tracking      350000   \nSalesforce                      Analytics     7000000   \nTesla Inc.            AnalyticsPrediction     3500000   \nWalmart                         Analytics     2450000   \n\n                                      Status  \nCompany                                       \n Google       PresentedPresentedUnder Review  \nATT                    Under ReviewPresented  \nApple                                    Won  \nBOBO                                    Lost  \nCVS Health                               Won  \nCisco                          LostPresented  \nExxon Mobile                       Presented  \nIKEA                                     Won  \nMicrosoft                       Under Review  \nSalesforce                               Won  \nTesla Inc.             Under ReviewPresented  \nWalmart                                 Lost  ",
            "text/html": "<div>\n<style scoped>\n    .dataframe tbody tr th:only-of-type {\n        vertical-align: middle;\n    }\n\n    .dataframe tbody tr th {\n        vertical-align: top;\n    }\n\n    .dataframe thead th {\n        text-align: right;\n    }\n</style>\n<table border=\"1\" class=\"dataframe\">\n  <thead>\n    <tr style=\"text-align: right;\">\n      <th></th>\n      <th>Account Manager</th>\n      <th>Account Number</th>\n      <th>Contact</th>\n      <th>Licenses</th>\n      <th>Product</th>\n      <th>Sale Price</th>\n      <th>Status</th>\n    </tr>\n    <tr>\n      <th>Company</th>\n      <th></th>\n      <th></th>\n      <th></th>\n      <th></th>\n      <th></th>\n      <th></th>\n      <th></th>\n    </tr>\n  </thead>\n  <tbody>\n    <tr>\n      <th>Google</th>\n      <td>Edward ThorpEdward ThorpEdward Thorp</td>\n      <td>6370194</td>\n      <td>Larry PagerLarry PagerLarry Pager</td>\n      <td>600</td>\n      <td>AnalyticsPredictionTracking</td>\n      <td>3150000</td>\n      <td>PresentedPresentedUnder Review</td>\n    </tr>\n    <tr>\n      <th>ATT</th>\n      <td>Claude ShannonClaude Shannon</td>\n      <td>1396064</td>\n      <td>Cindy PhonerCindy Phoner</td>\n      <td>300</td>\n      <td>TrackingPrediction</td>\n      <td>1050000</td>\n      <td>Under ReviewPresented</td>\n    </tr>\n    <tr>\n      <th>Apple</th>\n      <td>Claude Shannon</td>\n      <td>405886</td>\n      <td>Cindy Phoner</td>\n      <td>300</td>\n      <td>Analytics</td>\n      <td>4550000</td>\n      <td>Won</td>\n    </tr>\n    <tr>\n      <th>BOBO</th>\n      <td>Edward Thorp</td>\n      <td>2192650</td>\n      <td>Larry Pager</td>\n      <td>150</td>\n      <td>Analytics</td>\n      <td>2450000</td>\n      <td>Lost</td>\n    </tr>\n    <tr>\n      <th>CVS Health</th>\n      <td>Claude Shannon</td>\n      <td>902797</td>\n      <td>Emma Gordian</td>\n      <td>450</td>\n      <td>Tracking</td>\n      <td>490000</td>\n      <td>Won</td>\n    </tr>\n    <tr>\n      <th>Cisco</th>\n      <td>Claude ShannonClaude Shannon</td>\n      <td>4338998</td>\n      <td>Emma GordianEmma Gordian</td>\n      <td>600</td>\n      <td>AnalyticsGPS Positioning</td>\n      <td>4900000</td>\n      <td>LostPresented</td>\n    </tr>\n    <tr>\n      <th>Exxon Mobile</th>\n      <td>Claude Shannon</td>\n      <td>470248</td>\n      <td>Cindy Phoner</td>\n      <td>150</td>\n      <td>Analytics</td>\n      <td>2100000</td>\n      <td>Presented</td>\n    </tr>\n    <tr>\n      <th>IKEA</th>\n      <td>Edward Thorp</td>\n      <td>420496</td>\n      <td>Elon Tusk</td>\n      <td>300</td>\n      <td>Analytics</td>\n      <td>4550000</td>\n      <td>Won</td>\n    </tr>\n    <tr>\n      <th>Microsoft</th>\n      <td>Edward Thorp</td>\n      <td>1216870</td>\n      <td>Will Grates</td>\n      <td>300</td>\n      <td>Tracking</td>\n      <td>350000</td>\n      <td>Under Review</td>\n    </tr>\n    <tr>\n      <th>Salesforce</th>\n      <td>Claude Shannon</td>\n      <td>2046943</td>\n      <td>Emma Gordian</td>\n      <td>750</td>\n      <td>Analytics</td>\n      <td>7000000</td>\n      <td>Won</td>\n    </tr>\n    <tr>\n      <th>Tesla Inc.</th>\n      <td>Edward ThorpEdward Thorp</td>\n      <td>1273370</td>\n      <td>Elon TuskElon Tusk</td>\n      <td>450</td>\n      <td>AnalyticsPrediction</td>\n      <td>3500000</td>\n      <td>Under ReviewPresented</td>\n    </tr>\n    <tr>\n      <th>Walmart</th>\n      <td>Edward Thorp</td>\n      <td>2200450</td>\n      <td>Will Grates</td>\n      <td>150</td>\n      <td>Analytics</td>\n      <td>2450000</td>\n      <td>Lost</td>\n    </tr>\n  </tbody>\n</table>\n</div>"
          },
          "metadata": {}
        }
      ],
      "execution_count": 34
    },
    {
      "cell_type": "code",
      "source": "#help(pd.pivot_table) ----> doc",
      "metadata": {
        "trusted": true
      },
      "outputs": [],
      "execution_count": 36
    },
    {
      "cell_type": "code",
      "source": "\npd.pivot_table(df, index='Company', aggfunc={'Licenses':'sum', 'Sale Price': 'sum'}) # --> returns aggr on only columns we want",
      "metadata": {
        "trusted": true
      },
      "outputs": [
        {
          "execution_count": 37,
          "output_type": "execute_result",
          "data": {
            "text/plain": "              Licenses  Sale Price\nCompany                           \n Google            600     3150000\nATT                300     1050000\nApple              300     4550000\nBOBO               150     2450000\nCVS Health         450      490000\nCisco              600     4900000\nExxon Mobile       150     2100000\nIKEA               300     4550000\nMicrosoft          300      350000\nSalesforce         750     7000000\nTesla Inc.         450     3500000\nWalmart            150     2450000",
            "text/html": "<div>\n<style scoped>\n    .dataframe tbody tr th:only-of-type {\n        vertical-align: middle;\n    }\n\n    .dataframe tbody tr th {\n        vertical-align: top;\n    }\n\n    .dataframe thead th {\n        text-align: right;\n    }\n</style>\n<table border=\"1\" class=\"dataframe\">\n  <thead>\n    <tr style=\"text-align: right;\">\n      <th></th>\n      <th>Licenses</th>\n      <th>Sale Price</th>\n    </tr>\n    <tr>\n      <th>Company</th>\n      <th></th>\n      <th></th>\n    </tr>\n  </thead>\n  <tbody>\n    <tr>\n      <th>Google</th>\n      <td>600</td>\n      <td>3150000</td>\n    </tr>\n    <tr>\n      <th>ATT</th>\n      <td>300</td>\n      <td>1050000</td>\n    </tr>\n    <tr>\n      <th>Apple</th>\n      <td>300</td>\n      <td>4550000</td>\n    </tr>\n    <tr>\n      <th>BOBO</th>\n      <td>150</td>\n      <td>2450000</td>\n    </tr>\n    <tr>\n      <th>CVS Health</th>\n      <td>450</td>\n      <td>490000</td>\n    </tr>\n    <tr>\n      <th>Cisco</th>\n      <td>600</td>\n      <td>4900000</td>\n    </tr>\n    <tr>\n      <th>Exxon Mobile</th>\n      <td>150</td>\n      <td>2100000</td>\n    </tr>\n    <tr>\n      <th>IKEA</th>\n      <td>300</td>\n      <td>4550000</td>\n    </tr>\n    <tr>\n      <th>Microsoft</th>\n      <td>300</td>\n      <td>350000</td>\n    </tr>\n    <tr>\n      <th>Salesforce</th>\n      <td>750</td>\n      <td>7000000</td>\n    </tr>\n    <tr>\n      <th>Tesla Inc.</th>\n      <td>450</td>\n      <td>3500000</td>\n    </tr>\n    <tr>\n      <th>Walmart</th>\n      <td>150</td>\n      <td>2450000</td>\n    </tr>\n  </tbody>\n</table>\n</div>"
          },
          "metadata": {}
        }
      ],
      "execution_count": 37
    },
    {
      "cell_type": "code",
      "source": "pd.pivot_table(df, index='Company', aggfunc='sum', values=['Licenses', 'Sale Price'])",
      "metadata": {
        "trusted": true
      },
      "outputs": [
        {
          "execution_count": 42,
          "output_type": "execute_result",
          "data": {
            "text/plain": "              Licenses  Sale Price\nCompany                           \n Google            600     3150000\nATT                300     1050000\nApple              300     4550000\nBOBO               150     2450000\nCVS Health         450      490000\nCisco              600     4900000\nExxon Mobile       150     2100000\nIKEA               300     4550000\nMicrosoft          300      350000\nSalesforce         750     7000000\nTesla Inc.         450     3500000\nWalmart            150     2450000",
            "text/html": "<div>\n<style scoped>\n    .dataframe tbody tr th:only-of-type {\n        vertical-align: middle;\n    }\n\n    .dataframe tbody tr th {\n        vertical-align: top;\n    }\n\n    .dataframe thead th {\n        text-align: right;\n    }\n</style>\n<table border=\"1\" class=\"dataframe\">\n  <thead>\n    <tr style=\"text-align: right;\">\n      <th></th>\n      <th>Licenses</th>\n      <th>Sale Price</th>\n    </tr>\n    <tr>\n      <th>Company</th>\n      <th></th>\n      <th></th>\n    </tr>\n  </thead>\n  <tbody>\n    <tr>\n      <th>Google</th>\n      <td>600</td>\n      <td>3150000</td>\n    </tr>\n    <tr>\n      <th>ATT</th>\n      <td>300</td>\n      <td>1050000</td>\n    </tr>\n    <tr>\n      <th>Apple</th>\n      <td>300</td>\n      <td>4550000</td>\n    </tr>\n    <tr>\n      <th>BOBO</th>\n      <td>150</td>\n      <td>2450000</td>\n    </tr>\n    <tr>\n      <th>CVS Health</th>\n      <td>450</td>\n      <td>490000</td>\n    </tr>\n    <tr>\n      <th>Cisco</th>\n      <td>600</td>\n      <td>4900000</td>\n    </tr>\n    <tr>\n      <th>Exxon Mobile</th>\n      <td>150</td>\n      <td>2100000</td>\n    </tr>\n    <tr>\n      <th>IKEA</th>\n      <td>300</td>\n      <td>4550000</td>\n    </tr>\n    <tr>\n      <th>Microsoft</th>\n      <td>300</td>\n      <td>350000</td>\n    </tr>\n    <tr>\n      <th>Salesforce</th>\n      <td>750</td>\n      <td>7000000</td>\n    </tr>\n    <tr>\n      <th>Tesla Inc.</th>\n      <td>450</td>\n      <td>3500000</td>\n    </tr>\n    <tr>\n      <th>Walmart</th>\n      <td>150</td>\n      <td>2450000</td>\n    </tr>\n  </tbody>\n</table>\n</div>"
          },
          "metadata": {}
        }
      ],
      "execution_count": 42
    },
    {
      "cell_type": "code",
      "source": "# we can use Grropby() memthod instead --> Recommended**\n\ndf.groupby('Company').sum()[['Licenses', 'Sale Price']] ",
      "metadata": {
        "trusted": true
      },
      "outputs": [
        {
          "execution_count": 41,
          "output_type": "execute_result",
          "data": {
            "text/plain": "              Licenses  Sale Price\nCompany                           \n Google            600     3150000\nATT                300     1050000\nApple              300     4550000\nBOBO               150     2450000\nCVS Health         450      490000\nCisco              600     4900000\nExxon Mobile       150     2100000\nIKEA               300     4550000\nMicrosoft          300      350000\nSalesforce         750     7000000\nTesla Inc.         450     3500000\nWalmart            150     2450000",
            "text/html": "<div>\n<style scoped>\n    .dataframe tbody tr th:only-of-type {\n        vertical-align: middle;\n    }\n\n    .dataframe tbody tr th {\n        vertical-align: top;\n    }\n\n    .dataframe thead th {\n        text-align: right;\n    }\n</style>\n<table border=\"1\" class=\"dataframe\">\n  <thead>\n    <tr style=\"text-align: right;\">\n      <th></th>\n      <th>Licenses</th>\n      <th>Sale Price</th>\n    </tr>\n    <tr>\n      <th>Company</th>\n      <th></th>\n      <th></th>\n    </tr>\n  </thead>\n  <tbody>\n    <tr>\n      <th>Google</th>\n      <td>600</td>\n      <td>3150000</td>\n    </tr>\n    <tr>\n      <th>ATT</th>\n      <td>300</td>\n      <td>1050000</td>\n    </tr>\n    <tr>\n      <th>Apple</th>\n      <td>300</td>\n      <td>4550000</td>\n    </tr>\n    <tr>\n      <th>BOBO</th>\n      <td>150</td>\n      <td>2450000</td>\n    </tr>\n    <tr>\n      <th>CVS Health</th>\n      <td>450</td>\n      <td>490000</td>\n    </tr>\n    <tr>\n      <th>Cisco</th>\n      <td>600</td>\n      <td>4900000</td>\n    </tr>\n    <tr>\n      <th>Exxon Mobile</th>\n      <td>150</td>\n      <td>2100000</td>\n    </tr>\n    <tr>\n      <th>IKEA</th>\n      <td>300</td>\n      <td>4550000</td>\n    </tr>\n    <tr>\n      <th>Microsoft</th>\n      <td>300</td>\n      <td>350000</td>\n    </tr>\n    <tr>\n      <th>Salesforce</th>\n      <td>750</td>\n      <td>7000000</td>\n    </tr>\n    <tr>\n      <th>Tesla Inc.</th>\n      <td>450</td>\n      <td>3500000</td>\n    </tr>\n    <tr>\n      <th>Walmart</th>\n      <td>150</td>\n      <td>2450000</td>\n    </tr>\n  </tbody>\n</table>\n</div>"
          },
          "metadata": {}
        }
      ],
      "execution_count": 41
    },
    {
      "cell_type": "code",
      "source": "# Pivot tables for multi index tables ----> * recomend we can use Gropby mrhod insted\n\ndf",
      "metadata": {
        "trusted": true
      },
      "outputs": [
        {
          "execution_count": 43,
          "output_type": "execute_result",
          "data": {
            "text/plain": "    Account Number       Company       Contact Account Manager  \\\n0          2123398        Google   Larry Pager    Edward Thorp   \n1          2123398        Google   Larry Pager    Edward Thorp   \n2          2123398        Google   Larry Pager    Edward Thorp   \n3          2192650          BOBO   Larry Pager    Edward Thorp   \n4           420496          IKEA     Elon Tusk    Edward Thorp   \n5           636685    Tesla Inc.     Elon Tusk    Edward Thorp   \n6           636685    Tesla Inc.     Elon Tusk    Edward Thorp   \n7          1216870     Microsoft   Will Grates    Edward Thorp   \n8          2200450       Walmart   Will Grates    Edward Thorp   \n9           405886         Apple  Cindy Phoner  Claude Shannon   \n10          470248  Exxon Mobile  Cindy Phoner  Claude Shannon   \n11          698032           ATT  Cindy Phoner  Claude Shannon   \n12          698032           ATT  Cindy Phoner  Claude Shannon   \n13          902797    CVS Health  Emma Gordian  Claude Shannon   \n14         2046943    Salesforce  Emma Gordian  Claude Shannon   \n15         2169499         Cisco  Emma Gordian  Claude Shannon   \n16         2169499         Cisco  Emma Gordian  Claude Shannon   \n\n            Product  Licenses  Sale Price        Status  \n0         Analytics       150     2100000     Presented  \n1        Prediction       150      700000     Presented  \n2          Tracking       300      350000  Under Review  \n3         Analytics       150     2450000          Lost  \n4         Analytics       300     4550000           Won  \n5         Analytics       300     2800000  Under Review  \n6        Prediction       150      700000     Presented  \n7          Tracking       300      350000  Under Review  \n8         Analytics       150     2450000          Lost  \n9         Analytics       300     4550000           Won  \n10        Analytics       150     2100000     Presented  \n11         Tracking       150      350000  Under Review  \n12       Prediction       150      700000     Presented  \n13         Tracking       450      490000           Won  \n14        Analytics       750     7000000           Won  \n15        Analytics       300     4550000          Lost  \n16  GPS Positioning       300      350000     Presented  ",
            "text/html": "<div>\n<style scoped>\n    .dataframe tbody tr th:only-of-type {\n        vertical-align: middle;\n    }\n\n    .dataframe tbody tr th {\n        vertical-align: top;\n    }\n\n    .dataframe thead th {\n        text-align: right;\n    }\n</style>\n<table border=\"1\" class=\"dataframe\">\n  <thead>\n    <tr style=\"text-align: right;\">\n      <th></th>\n      <th>Account Number</th>\n      <th>Company</th>\n      <th>Contact</th>\n      <th>Account Manager</th>\n      <th>Product</th>\n      <th>Licenses</th>\n      <th>Sale Price</th>\n      <th>Status</th>\n    </tr>\n  </thead>\n  <tbody>\n    <tr>\n      <th>0</th>\n      <td>2123398</td>\n      <td>Google</td>\n      <td>Larry Pager</td>\n      <td>Edward Thorp</td>\n      <td>Analytics</td>\n      <td>150</td>\n      <td>2100000</td>\n      <td>Presented</td>\n    </tr>\n    <tr>\n      <th>1</th>\n      <td>2123398</td>\n      <td>Google</td>\n      <td>Larry Pager</td>\n      <td>Edward Thorp</td>\n      <td>Prediction</td>\n      <td>150</td>\n      <td>700000</td>\n      <td>Presented</td>\n    </tr>\n    <tr>\n      <th>2</th>\n      <td>2123398</td>\n      <td>Google</td>\n      <td>Larry Pager</td>\n      <td>Edward Thorp</td>\n      <td>Tracking</td>\n      <td>300</td>\n      <td>350000</td>\n      <td>Under Review</td>\n    </tr>\n    <tr>\n      <th>3</th>\n      <td>2192650</td>\n      <td>BOBO</td>\n      <td>Larry Pager</td>\n      <td>Edward Thorp</td>\n      <td>Analytics</td>\n      <td>150</td>\n      <td>2450000</td>\n      <td>Lost</td>\n    </tr>\n    <tr>\n      <th>4</th>\n      <td>420496</td>\n      <td>IKEA</td>\n      <td>Elon Tusk</td>\n      <td>Edward Thorp</td>\n      <td>Analytics</td>\n      <td>300</td>\n      <td>4550000</td>\n      <td>Won</td>\n    </tr>\n    <tr>\n      <th>5</th>\n      <td>636685</td>\n      <td>Tesla Inc.</td>\n      <td>Elon Tusk</td>\n      <td>Edward Thorp</td>\n      <td>Analytics</td>\n      <td>300</td>\n      <td>2800000</td>\n      <td>Under Review</td>\n    </tr>\n    <tr>\n      <th>6</th>\n      <td>636685</td>\n      <td>Tesla Inc.</td>\n      <td>Elon Tusk</td>\n      <td>Edward Thorp</td>\n      <td>Prediction</td>\n      <td>150</td>\n      <td>700000</td>\n      <td>Presented</td>\n    </tr>\n    <tr>\n      <th>7</th>\n      <td>1216870</td>\n      <td>Microsoft</td>\n      <td>Will Grates</td>\n      <td>Edward Thorp</td>\n      <td>Tracking</td>\n      <td>300</td>\n      <td>350000</td>\n      <td>Under Review</td>\n    </tr>\n    <tr>\n      <th>8</th>\n      <td>2200450</td>\n      <td>Walmart</td>\n      <td>Will Grates</td>\n      <td>Edward Thorp</td>\n      <td>Analytics</td>\n      <td>150</td>\n      <td>2450000</td>\n      <td>Lost</td>\n    </tr>\n    <tr>\n      <th>9</th>\n      <td>405886</td>\n      <td>Apple</td>\n      <td>Cindy Phoner</td>\n      <td>Claude Shannon</td>\n      <td>Analytics</td>\n      <td>300</td>\n      <td>4550000</td>\n      <td>Won</td>\n    </tr>\n    <tr>\n      <th>10</th>\n      <td>470248</td>\n      <td>Exxon Mobile</td>\n      <td>Cindy Phoner</td>\n      <td>Claude Shannon</td>\n      <td>Analytics</td>\n      <td>150</td>\n      <td>2100000</td>\n      <td>Presented</td>\n    </tr>\n    <tr>\n      <th>11</th>\n      <td>698032</td>\n      <td>ATT</td>\n      <td>Cindy Phoner</td>\n      <td>Claude Shannon</td>\n      <td>Tracking</td>\n      <td>150</td>\n      <td>350000</td>\n      <td>Under Review</td>\n    </tr>\n    <tr>\n      <th>12</th>\n      <td>698032</td>\n      <td>ATT</td>\n      <td>Cindy Phoner</td>\n      <td>Claude Shannon</td>\n      <td>Prediction</td>\n      <td>150</td>\n      <td>700000</td>\n      <td>Presented</td>\n    </tr>\n    <tr>\n      <th>13</th>\n      <td>902797</td>\n      <td>CVS Health</td>\n      <td>Emma Gordian</td>\n      <td>Claude Shannon</td>\n      <td>Tracking</td>\n      <td>450</td>\n      <td>490000</td>\n      <td>Won</td>\n    </tr>\n    <tr>\n      <th>14</th>\n      <td>2046943</td>\n      <td>Salesforce</td>\n      <td>Emma Gordian</td>\n      <td>Claude Shannon</td>\n      <td>Analytics</td>\n      <td>750</td>\n      <td>7000000</td>\n      <td>Won</td>\n    </tr>\n    <tr>\n      <th>15</th>\n      <td>2169499</td>\n      <td>Cisco</td>\n      <td>Emma Gordian</td>\n      <td>Claude Shannon</td>\n      <td>Analytics</td>\n      <td>300</td>\n      <td>4550000</td>\n      <td>Lost</td>\n    </tr>\n    <tr>\n      <th>16</th>\n      <td>2169499</td>\n      <td>Cisco</td>\n      <td>Emma Gordian</td>\n      <td>Claude Shannon</td>\n      <td>GPS Positioning</td>\n      <td>300</td>\n      <td>350000</td>\n      <td>Presented</td>\n    </tr>\n  </tbody>\n</table>\n</div>"
          },
          "metadata": {}
        }
      ],
      "execution_count": 43
    },
    {
      "cell_type": "code",
      "source": " # eg - we want to know total licenses sold  & total contact made by Account mangaer\n\n#---> we want to groupby Account manager & contact and get total soles price per contact\n\npd.pivot_table(df, index=['Account Manager', 'Contact'], values='Sale Price', aggfunc='sum')  # ----> return multi indes pivot table with Sale Price as column \n                                                                                  #showing sum of total sale price made by account amager to each oftheir contacts  ",
      "metadata": {
        "trusted": true
      },
      "outputs": [
        {
          "execution_count": 47,
          "output_type": "execute_result",
          "data": {
            "text/plain": "                              Sale Price\nAccount Manager Contact                 \nClaude Shannon  Cindy Phoner     7700000\n                Emma Gordian    12390000\nEdward Thorp    Elon Tusk        8050000\n                Larry Pager      5600000\n                Will Grates      2800000",
            "text/html": "<div>\n<style scoped>\n    .dataframe tbody tr th:only-of-type {\n        vertical-align: middle;\n    }\n\n    .dataframe tbody tr th {\n        vertical-align: top;\n    }\n\n    .dataframe thead th {\n        text-align: right;\n    }\n</style>\n<table border=\"1\" class=\"dataframe\">\n  <thead>\n    <tr style=\"text-align: right;\">\n      <th></th>\n      <th></th>\n      <th>Sale Price</th>\n    </tr>\n    <tr>\n      <th>Account Manager</th>\n      <th>Contact</th>\n      <th></th>\n    </tr>\n  </thead>\n  <tbody>\n    <tr>\n      <th rowspan=\"2\" valign=\"top\">Claude Shannon</th>\n      <th>Cindy Phoner</th>\n      <td>7700000</td>\n    </tr>\n    <tr>\n      <th>Emma Gordian</th>\n      <td>12390000</td>\n    </tr>\n    <tr>\n      <th rowspan=\"3\" valign=\"top\">Edward Thorp</th>\n      <th>Elon Tusk</th>\n      <td>8050000</td>\n    </tr>\n    <tr>\n      <th>Larry Pager</th>\n      <td>5600000</td>\n    </tr>\n    <tr>\n      <th>Will Grates</th>\n      <td>2800000</td>\n    </tr>\n  </tbody>\n</table>\n</div>"
          },
          "metadata": {}
        }
      ],
      "execution_count": 47
    },
    {
      "cell_type": "code",
      "source": "# NB - columns in pivot table are optional & aggretion is applied to values we list\n\npd.pivot_table(df, index=['Account Manager', 'Contact'], values='Sale Price', columns=['Product'], aggfunc='sum')\n\n\n# ---> we ll see Sale Price separeated out by list of product type column ---> Two tier of multi index level for both index & column            ",
      "metadata": {
        "trusted": true
      },
      "outputs": [
        {
          "execution_count": 49,
          "output_type": "execute_result",
          "data": {
            "text/plain": "Product                        Analytics  GPS Positioning  Prediction  \\\nAccount Manager Contact                                                 \nClaude Shannon  Cindy Phoner   6650000.0              NaN    700000.0   \n                Emma Gordian  11550000.0         350000.0         NaN   \nEdward Thorp    Elon Tusk      7350000.0              NaN    700000.0   \n                Larry Pager    4550000.0              NaN    700000.0   \n                Will Grates    2450000.0              NaN         NaN   \n\nProduct                       Tracking  \nAccount Manager Contact                 \nClaude Shannon  Cindy Phoner  350000.0  \n                Emma Gordian  490000.0  \nEdward Thorp    Elon Tusk          NaN  \n                Larry Pager   350000.0  \n                Will Grates   350000.0  ",
            "text/html": "<div>\n<style scoped>\n    .dataframe tbody tr th:only-of-type {\n        vertical-align: middle;\n    }\n\n    .dataframe tbody tr th {\n        vertical-align: top;\n    }\n\n    .dataframe thead th {\n        text-align: right;\n    }\n</style>\n<table border=\"1\" class=\"dataframe\">\n  <thead>\n    <tr style=\"text-align: right;\">\n      <th></th>\n      <th>Product</th>\n      <th>Analytics</th>\n      <th>GPS Positioning</th>\n      <th>Prediction</th>\n      <th>Tracking</th>\n    </tr>\n    <tr>\n      <th>Account Manager</th>\n      <th>Contact</th>\n      <th></th>\n      <th></th>\n      <th></th>\n      <th></th>\n    </tr>\n  </thead>\n  <tbody>\n    <tr>\n      <th rowspan=\"2\" valign=\"top\">Claude Shannon</th>\n      <th>Cindy Phoner</th>\n      <td>6650000.0</td>\n      <td>NaN</td>\n      <td>700000.0</td>\n      <td>350000.0</td>\n    </tr>\n    <tr>\n      <th>Emma Gordian</th>\n      <td>11550000.0</td>\n      <td>350000.0</td>\n      <td>NaN</td>\n      <td>490000.0</td>\n    </tr>\n    <tr>\n      <th rowspan=\"3\" valign=\"top\">Edward Thorp</th>\n      <th>Elon Tusk</th>\n      <td>7350000.0</td>\n      <td>NaN</td>\n      <td>700000.0</td>\n      <td>NaN</td>\n    </tr>\n    <tr>\n      <th>Larry Pager</th>\n      <td>4550000.0</td>\n      <td>NaN</td>\n      <td>700000.0</td>\n      <td>350000.0</td>\n    </tr>\n    <tr>\n      <th>Will Grates</th>\n      <td>2450000.0</td>\n      <td>NaN</td>\n      <td>NaN</td>\n      <td>350000.0</td>\n    </tr>\n  </tbody>\n</table>\n</div>"
          },
          "metadata": {}
        }
      ],
      "execution_count": 49
    },
    {
      "cell_type": "code",
      "source": "pd.pivot_table(df, index=['Account Manager', 'Contact'], values='Sale Price', columns=['Product'], aggfunc='sum', fill_value=0)\n\n# fills NAN null values with zero",
      "metadata": {
        "trusted": true
      },
      "outputs": [
        {
          "execution_count": 50,
          "output_type": "execute_result",
          "data": {
            "text/plain": "Product                       Analytics  GPS Positioning  Prediction  Tracking\nAccount Manager Contact                                                       \nClaude Shannon  Cindy Phoner    6650000                0      700000    350000\n                Emma Gordian   11550000           350000           0    490000\nEdward Thorp    Elon Tusk       7350000                0      700000         0\n                Larry Pager     4550000                0      700000    350000\n                Will Grates     2450000                0           0    350000",
            "text/html": "<div>\n<style scoped>\n    .dataframe tbody tr th:only-of-type {\n        vertical-align: middle;\n    }\n\n    .dataframe tbody tr th {\n        vertical-align: top;\n    }\n\n    .dataframe thead th {\n        text-align: right;\n    }\n</style>\n<table border=\"1\" class=\"dataframe\">\n  <thead>\n    <tr style=\"text-align: right;\">\n      <th></th>\n      <th>Product</th>\n      <th>Analytics</th>\n      <th>GPS Positioning</th>\n      <th>Prediction</th>\n      <th>Tracking</th>\n    </tr>\n    <tr>\n      <th>Account Manager</th>\n      <th>Contact</th>\n      <th></th>\n      <th></th>\n      <th></th>\n      <th></th>\n    </tr>\n  </thead>\n  <tbody>\n    <tr>\n      <th rowspan=\"2\" valign=\"top\">Claude Shannon</th>\n      <th>Cindy Phoner</th>\n      <td>6650000</td>\n      <td>0</td>\n      <td>700000</td>\n      <td>350000</td>\n    </tr>\n    <tr>\n      <th>Emma Gordian</th>\n      <td>11550000</td>\n      <td>350000</td>\n      <td>0</td>\n      <td>490000</td>\n    </tr>\n    <tr>\n      <th rowspan=\"3\" valign=\"top\">Edward Thorp</th>\n      <th>Elon Tusk</th>\n      <td>7350000</td>\n      <td>0</td>\n      <td>700000</td>\n      <td>0</td>\n    </tr>\n    <tr>\n      <th>Larry Pager</th>\n      <td>4550000</td>\n      <td>0</td>\n      <td>700000</td>\n      <td>350000</td>\n    </tr>\n    <tr>\n      <th>Will Grates</th>\n      <td>2450000</td>\n      <td>0</td>\n      <td>0</td>\n      <td>350000</td>\n    </tr>\n  </tbody>\n</table>\n</div>"
          },
          "metadata": {}
        }
      ],
      "execution_count": 50
    },
    {
      "cell_type": "code",
      "source": "#NB :- we can also pass list of multiple numpy aggregate calls \npd.pivot_table(df, index=['Account Manager', 'Contact'], values='Sale Price', columns=['Product'], aggfunc=[np.sum, np.mean], fill_value=0)\n\n# ----> we get sum of both sale price & mean of mean of sale price ",
      "metadata": {
        "trusted": true
      },
      "outputs": [
        {
          "name": "stderr",
          "text": "<ipython-input-52-7f4779c780e4>:2: FutureWarning: The provided callable <function sum at 0x13fb840> is currently using DataFrameGroupBy.sum. In a future version of pandas, the provided callable will be used directly. To keep current behavior pass the string \"sum\" instead.\n  pd.pivot_table(df, index=['Account Manager', 'Contact'], values='Sale Price', columns=['Product'], aggfunc=[np.sum, np.mean], fill_value=0)\n<ipython-input-52-7f4779c780e4>:2: FutureWarning: The provided callable <function mean at 0x2e68410> is currently using DataFrameGroupBy.mean. In a future version of pandas, the provided callable will be used directly. To keep current behavior pass the string \"mean\" instead.\n  pd.pivot_table(df, index=['Account Manager', 'Contact'], values='Sale Price', columns=['Product'], aggfunc=[np.sum, np.mean], fill_value=0)\n",
          "output_type": "stream"
        },
        {
          "execution_count": 52,
          "output_type": "execute_result",
          "data": {
            "text/plain": "                                   sum                                      \\\nProduct                      Analytics GPS Positioning Prediction Tracking   \nAccount Manager Contact                                                      \nClaude Shannon  Cindy Phoner   6650000               0     700000   350000   \n                Emma Gordian  11550000          350000          0   490000   \nEdward Thorp    Elon Tusk      7350000               0     700000        0   \n                Larry Pager    4550000               0     700000   350000   \n                Will Grates    2450000               0          0   350000   \n\n                                   mean                                       \nProduct                       Analytics GPS Positioning Prediction  Tracking  \nAccount Manager Contact                                                       \nClaude Shannon  Cindy Phoner  3325000.0             0.0   700000.0  350000.0  \n                Emma Gordian  5775000.0        350000.0        0.0  490000.0  \nEdward Thorp    Elon Tusk     3675000.0             0.0   700000.0       0.0  \n                Larry Pager   2275000.0             0.0   700000.0  350000.0  \n                Will Grates   2450000.0             0.0        0.0  350000.0  ",
            "text/html": "<div>\n<style scoped>\n    .dataframe tbody tr th:only-of-type {\n        vertical-align: middle;\n    }\n\n    .dataframe tbody tr th {\n        vertical-align: top;\n    }\n\n    .dataframe thead tr th {\n        text-align: left;\n    }\n\n    .dataframe thead tr:last-of-type th {\n        text-align: right;\n    }\n</style>\n<table border=\"1\" class=\"dataframe\">\n  <thead>\n    <tr>\n      <th></th>\n      <th></th>\n      <th colspan=\"4\" halign=\"left\">sum</th>\n      <th colspan=\"4\" halign=\"left\">mean</th>\n    </tr>\n    <tr>\n      <th></th>\n      <th>Product</th>\n      <th>Analytics</th>\n      <th>GPS Positioning</th>\n      <th>Prediction</th>\n      <th>Tracking</th>\n      <th>Analytics</th>\n      <th>GPS Positioning</th>\n      <th>Prediction</th>\n      <th>Tracking</th>\n    </tr>\n    <tr>\n      <th>Account Manager</th>\n      <th>Contact</th>\n      <th></th>\n      <th></th>\n      <th></th>\n      <th></th>\n      <th></th>\n      <th></th>\n      <th></th>\n      <th></th>\n    </tr>\n  </thead>\n  <tbody>\n    <tr>\n      <th rowspan=\"2\" valign=\"top\">Claude Shannon</th>\n      <th>Cindy Phoner</th>\n      <td>6650000</td>\n      <td>0</td>\n      <td>700000</td>\n      <td>350000</td>\n      <td>3325000.0</td>\n      <td>0.0</td>\n      <td>700000.0</td>\n      <td>350000.0</td>\n    </tr>\n    <tr>\n      <th>Emma Gordian</th>\n      <td>11550000</td>\n      <td>350000</td>\n      <td>0</td>\n      <td>490000</td>\n      <td>5775000.0</td>\n      <td>350000.0</td>\n      <td>0.0</td>\n      <td>490000.0</td>\n    </tr>\n    <tr>\n      <th rowspan=\"3\" valign=\"top\">Edward Thorp</th>\n      <th>Elon Tusk</th>\n      <td>7350000</td>\n      <td>0</td>\n      <td>700000</td>\n      <td>0</td>\n      <td>3675000.0</td>\n      <td>0.0</td>\n      <td>700000.0</td>\n      <td>0.0</td>\n    </tr>\n    <tr>\n      <th>Larry Pager</th>\n      <td>4550000</td>\n      <td>0</td>\n      <td>700000</td>\n      <td>350000</td>\n      <td>2275000.0</td>\n      <td>0.0</td>\n      <td>700000.0</td>\n      <td>350000.0</td>\n    </tr>\n    <tr>\n      <th>Will Grates</th>\n      <td>2450000</td>\n      <td>0</td>\n      <td>0</td>\n      <td>350000</td>\n      <td>2450000.0</td>\n      <td>0.0</td>\n      <td>0.0</td>\n      <td>350000.0</td>\n    </tr>\n  </tbody>\n</table>\n</div>"
          },
          "metadata": {}
        }
      ],
      "execution_count": 52
    },
    {
      "cell_type": "code",
      "source": "# NB - Pivot table can get really mess & hard to read as we aggregate too much datas on it",
      "metadata": {
        "trusted": true
      },
      "outputs": [],
      "execution_count": 53
    },
    {
      "cell_type": "code",
      "source": "pd.pivot_table(df, index=['Account Manager', 'Contact', 'Product'], values='Sale Price', aggfunc=[np.sum, np.mean], fill_value=0) # having product as 3rd index",
      "metadata": {
        "trusted": true
      },
      "outputs": [
        {
          "name": "stderr",
          "text": "<ipython-input-54-e8ceede53541>:1: FutureWarning: The provided callable <function sum at 0x13fb840> is currently using DataFrameGroupBy.sum. In a future version of pandas, the provided callable will be used directly. To keep current behavior pass the string \"sum\" instead.\n  pd.pivot_table(df, index=['Account Manager', 'Contact', 'Product'], values='Sale Price', aggfunc=[np.sum, np.mean], fill_value=0) # having product as 3rd index\n<ipython-input-54-e8ceede53541>:1: FutureWarning: The provided callable <function mean at 0x2e68410> is currently using DataFrameGroupBy.mean. In a future version of pandas, the provided callable will be used directly. To keep current behavior pass the string \"mean\" instead.\n  pd.pivot_table(df, index=['Account Manager', 'Contact', 'Product'], values='Sale Price', aggfunc=[np.sum, np.mean], fill_value=0) # having product as 3rd index\n",
          "output_type": "stream"
        },
        {
          "execution_count": 54,
          "output_type": "execute_result",
          "data": {
            "text/plain": "                                                    sum       mean\n                                             Sale Price Sale Price\nAccount Manager Contact      Product                              \nClaude Shannon  Cindy Phoner Analytics          6650000  3325000.0\n                             Prediction          700000   700000.0\n                             Tracking            350000   350000.0\n                Emma Gordian Analytics         11550000  5775000.0\n                             GPS Positioning     350000   350000.0\n                             Tracking            490000   490000.0\nEdward Thorp    Elon Tusk    Analytics          7350000  3675000.0\n                             Prediction          700000   700000.0\n                Larry Pager  Analytics          4550000  2275000.0\n                             Prediction          700000   700000.0\n                             Tracking            350000   350000.0\n                Will Grates  Analytics          2450000  2450000.0\n                             Tracking            350000   350000.0",
            "text/html": "<div>\n<style scoped>\n    .dataframe tbody tr th:only-of-type {\n        vertical-align: middle;\n    }\n\n    .dataframe tbody tr th {\n        vertical-align: top;\n    }\n\n    .dataframe thead tr th {\n        text-align: left;\n    }\n\n    .dataframe thead tr:last-of-type th {\n        text-align: right;\n    }\n</style>\n<table border=\"1\" class=\"dataframe\">\n  <thead>\n    <tr>\n      <th></th>\n      <th></th>\n      <th></th>\n      <th>sum</th>\n      <th>mean</th>\n    </tr>\n    <tr>\n      <th></th>\n      <th></th>\n      <th></th>\n      <th>Sale Price</th>\n      <th>Sale Price</th>\n    </tr>\n    <tr>\n      <th>Account Manager</th>\n      <th>Contact</th>\n      <th>Product</th>\n      <th></th>\n      <th></th>\n    </tr>\n  </thead>\n  <tbody>\n    <tr>\n      <th rowspan=\"6\" valign=\"top\">Claude Shannon</th>\n      <th rowspan=\"3\" valign=\"top\">Cindy Phoner</th>\n      <th>Analytics</th>\n      <td>6650000</td>\n      <td>3325000.0</td>\n    </tr>\n    <tr>\n      <th>Prediction</th>\n      <td>700000</td>\n      <td>700000.0</td>\n    </tr>\n    <tr>\n      <th>Tracking</th>\n      <td>350000</td>\n      <td>350000.0</td>\n    </tr>\n    <tr>\n      <th rowspan=\"3\" valign=\"top\">Emma Gordian</th>\n      <th>Analytics</th>\n      <td>11550000</td>\n      <td>5775000.0</td>\n    </tr>\n    <tr>\n      <th>GPS Positioning</th>\n      <td>350000</td>\n      <td>350000.0</td>\n    </tr>\n    <tr>\n      <th>Tracking</th>\n      <td>490000</td>\n      <td>490000.0</td>\n    </tr>\n    <tr>\n      <th rowspan=\"7\" valign=\"top\">Edward Thorp</th>\n      <th rowspan=\"2\" valign=\"top\">Elon Tusk</th>\n      <th>Analytics</th>\n      <td>7350000</td>\n      <td>3675000.0</td>\n    </tr>\n    <tr>\n      <th>Prediction</th>\n      <td>700000</td>\n      <td>700000.0</td>\n    </tr>\n    <tr>\n      <th rowspan=\"3\" valign=\"top\">Larry Pager</th>\n      <th>Analytics</th>\n      <td>4550000</td>\n      <td>2275000.0</td>\n    </tr>\n    <tr>\n      <th>Prediction</th>\n      <td>700000</td>\n      <td>700000.0</td>\n    </tr>\n    <tr>\n      <th>Tracking</th>\n      <td>350000</td>\n      <td>350000.0</td>\n    </tr>\n    <tr>\n      <th rowspan=\"2\" valign=\"top\">Will Grates</th>\n      <th>Analytics</th>\n      <td>2450000</td>\n      <td>2450000.0</td>\n    </tr>\n    <tr>\n      <th>Tracking</th>\n      <td>350000</td>\n      <td>350000.0</td>\n    </tr>\n  </tbody>\n</table>\n</div>"
          },
          "metadata": {}
        }
      ],
      "execution_count": 54
    },
    {
      "cell_type": "code",
      "source": "# margin option ----> false by default---> we canset to true to give grand margin\n\npd.pivot_table(df, index=['Account Manager', 'Contact', 'Product'], values='Sale Price', aggfunc=[np.sum, np.mean], fill_value=0, margins=True)",
      "metadata": {
        "trusted": true
      },
      "outputs": [
        {
          "name": "stderr",
          "text": "<ipython-input-56-a756b75543a7>:3: FutureWarning: The provided callable <function sum at 0x13fb840> is currently using DataFrameGroupBy.sum. In a future version of pandas, the provided callable will be used directly. To keep current behavior pass the string \"sum\" instead.\n  pd.pivot_table(df, index=['Account Manager', 'Contact', 'Product'], values='Sale Price', aggfunc=[np.sum, np.mean], fill_value=0, margins=True)\n<ipython-input-56-a756b75543a7>:3: FutureWarning: The provided callable <function mean at 0x2e68410> is currently using DataFrameGroupBy.mean. In a future version of pandas, the provided callable will be used directly. To keep current behavior pass the string \"mean\" instead.\n  pd.pivot_table(df, index=['Account Manager', 'Contact', 'Product'], values='Sale Price', aggfunc=[np.sum, np.mean], fill_value=0, margins=True)\n",
          "output_type": "stream"
        },
        {
          "execution_count": 56,
          "output_type": "execute_result",
          "data": {
            "text/plain": "                                                    sum          mean\n                                             Sale Price    Sale Price\nAccount Manager Contact      Product                                 \nClaude Shannon  Cindy Phoner Analytics          6650000  3.325000e+06\n                             Prediction          700000  7.000000e+05\n                             Tracking            350000  3.500000e+05\n                Emma Gordian Analytics         11550000  5.775000e+06\n                             GPS Positioning     350000  3.500000e+05\n                             Tracking            490000  4.900000e+05\nEdward Thorp    Elon Tusk    Analytics          7350000  3.675000e+06\n                             Prediction          700000  7.000000e+05\n                Larry Pager  Analytics          4550000  2.275000e+06\n                             Prediction          700000  7.000000e+05\n                             Tracking            350000  3.500000e+05\n                Will Grates  Analytics          2450000  2.450000e+06\n                             Tracking            350000  3.500000e+05\nAll                                            36540000  2.149412e+06",
            "text/html": "<div>\n<style scoped>\n    .dataframe tbody tr th:only-of-type {\n        vertical-align: middle;\n    }\n\n    .dataframe tbody tr th {\n        vertical-align: top;\n    }\n\n    .dataframe thead tr th {\n        text-align: left;\n    }\n\n    .dataframe thead tr:last-of-type th {\n        text-align: right;\n    }\n</style>\n<table border=\"1\" class=\"dataframe\">\n  <thead>\n    <tr>\n      <th></th>\n      <th></th>\n      <th></th>\n      <th>sum</th>\n      <th>mean</th>\n    </tr>\n    <tr>\n      <th></th>\n      <th></th>\n      <th></th>\n      <th>Sale Price</th>\n      <th>Sale Price</th>\n    </tr>\n    <tr>\n      <th>Account Manager</th>\n      <th>Contact</th>\n      <th>Product</th>\n      <th></th>\n      <th></th>\n    </tr>\n  </thead>\n  <tbody>\n    <tr>\n      <th rowspan=\"6\" valign=\"top\">Claude Shannon</th>\n      <th rowspan=\"3\" valign=\"top\">Cindy Phoner</th>\n      <th>Analytics</th>\n      <td>6650000</td>\n      <td>3.325000e+06</td>\n    </tr>\n    <tr>\n      <th>Prediction</th>\n      <td>700000</td>\n      <td>7.000000e+05</td>\n    </tr>\n    <tr>\n      <th>Tracking</th>\n      <td>350000</td>\n      <td>3.500000e+05</td>\n    </tr>\n    <tr>\n      <th rowspan=\"3\" valign=\"top\">Emma Gordian</th>\n      <th>Analytics</th>\n      <td>11550000</td>\n      <td>5.775000e+06</td>\n    </tr>\n    <tr>\n      <th>GPS Positioning</th>\n      <td>350000</td>\n      <td>3.500000e+05</td>\n    </tr>\n    <tr>\n      <th>Tracking</th>\n      <td>490000</td>\n      <td>4.900000e+05</td>\n    </tr>\n    <tr>\n      <th rowspan=\"7\" valign=\"top\">Edward Thorp</th>\n      <th rowspan=\"2\" valign=\"top\">Elon Tusk</th>\n      <th>Analytics</th>\n      <td>7350000</td>\n      <td>3.675000e+06</td>\n    </tr>\n    <tr>\n      <th>Prediction</th>\n      <td>700000</td>\n      <td>7.000000e+05</td>\n    </tr>\n    <tr>\n      <th rowspan=\"3\" valign=\"top\">Larry Pager</th>\n      <th>Analytics</th>\n      <td>4550000</td>\n      <td>2.275000e+06</td>\n    </tr>\n    <tr>\n      <th>Prediction</th>\n      <td>700000</td>\n      <td>7.000000e+05</td>\n    </tr>\n    <tr>\n      <th>Tracking</th>\n      <td>350000</td>\n      <td>3.500000e+05</td>\n    </tr>\n    <tr>\n      <th rowspan=\"2\" valign=\"top\">Will Grates</th>\n      <th>Analytics</th>\n      <td>2450000</td>\n      <td>2.450000e+06</td>\n    </tr>\n    <tr>\n      <th>Tracking</th>\n      <td>350000</td>\n      <td>3.500000e+05</td>\n    </tr>\n    <tr>\n      <th>All</th>\n      <th></th>\n      <th></th>\n      <td>36540000</td>\n      <td>2.149412e+06</td>\n    </tr>\n  </tbody>\n</table>\n</div>"
          },
          "metadata": {}
        }
      ],
      "execution_count": 56
    },
    {
      "cell_type": "code",
      "source": "# Thats it for pivot table with pandas dataframe ",
      "metadata": {
        "trusted": true
      },
      "outputs": [],
      "execution_count": 57
    },
    {
      "cell_type": "code",
      "source": "",
      "metadata": {
        "trusted": true
      },
      "outputs": [],
      "execution_count": null
    }
  ]
}